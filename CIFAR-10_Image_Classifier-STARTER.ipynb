{
 "cells": [
  {
   "cell_type": "markdown",
   "metadata": {},
   "source": [
    "# Introduction\n",
    "\n",
    "In this project, you will build a neural network of your own design to evaluate the CIFAR-10 dataset.\n",
    "Our target accuracy is 70%, but any accuracy over 50% is a great start.\n",
    "Some of the benchmark results on CIFAR-10 include:\n",
    "\n",
    "78.9% Accuracy | [Deep Belief Networks; Krizhevsky, 2010](https://www.cs.toronto.edu/~kriz/conv-cifar10-aug2010.pdf)\n",
    "\n",
    "90.6% Accuracy | [Maxout Networks; Goodfellow et al., 2013](https://arxiv.org/pdf/1302.4389.pdf)\n",
    "\n",
    "96.0% Accuracy | [Wide Residual Networks; Zagoruyko et al., 2016](https://arxiv.org/pdf/1605.07146.pdf)\n",
    "\n",
    "99.0% Accuracy | [GPipe; Huang et al., 2018](https://arxiv.org/pdf/1811.06965.pdf)\n",
    "\n",
    "98.5% Accuracy | [Rethinking Recurrent Neural Networks and other Improvements for ImageClassification; Nguyen et al., 2020](https://arxiv.org/pdf/2007.15161.pdf)\n",
    "\n",
    "Research with this dataset is ongoing. Notably, many of these networks are quite large and quite expensive to train. \n",
    "\n",
    "## Imports"
   ]
  },
  {
   "cell_type": "code",
   "execution_count": 34,
   "metadata": {},
   "outputs": [],
   "source": [
    "## This cell contains the essential imports you will need – DO NOT CHANGE THE CONTENTS! ##\n",
    "import torch\n",
    "import torch.nn as nn\n",
    "import torch.nn.functional as F\n",
    "import torch.optim as optim\n",
    "import torchvision\n",
    "import torchvision.transforms as transforms\n",
    "import matplotlib.pyplot as plt\n",
    "import numpy as np"
   ]
  },
  {
   "cell_type": "code",
   "execution_count": 35,
   "metadata": {},
   "outputs": [],
   "source": [
    "transfer_learning = True"
   ]
  },
  {
   "cell_type": "markdown",
   "metadata": {},
   "source": [
    "## Load the Dataset\n",
    "\n",
    "Specify your transforms as a list first.\n",
    "The transforms module is already loaded as `transforms`.\n",
    "\n",
    "CIFAR-10 is fortunately included in the torchvision module.\n",
    "Then, you can create your dataset using the `CIFAR10` object from `torchvision.datasets` ([the documentation is available here](https://pytorch.org/docs/stable/torchvision/datasets.html#cifar)).\n",
    "Make sure to specify `download=True`! \n",
    "\n",
    "Once your dataset is created, you'll also need to define a `DataLoader` from the `torch.utils.data` module for both the train and the test set."
   ]
  },
  {
   "cell_type": "code",
   "execution_count": 36,
   "metadata": {},
   "outputs": [
    {
     "name": "stdout",
     "output_type": "stream",
     "text": [
      "Files already downloaded and verified\n",
      "Files already downloaded and verified\n"
     ]
    }
   ],
   "source": [
    "# Define transforms\n",
    "## YOUR CODE HERE ##\n",
    "if transfer_learning:\n",
    "    \n",
    "\n",
    "    train_transforms = transforms.Compose([transforms.Resize(224),\n",
    "                                           transforms.RandomRotation(30),\n",
    "                                           # transforms.RandomHorizontalFlip(),\n",
    "                                           transforms.ToTensor(),\n",
    "                                           transforms.Normalize((0.5, 0.5, 0.5), (0.5, 0.5, 0.5))])\n",
    "\n",
    "    test_transforms = transforms.Compose([transforms.Resize(224),\n",
    "                                          transforms.ToTensor(),\n",
    "                                          transforms.Normalize((0.5, 0.5, 0.5), (0.5, 0.5, 0.5))])\n",
    "\n",
    "else:    \n",
    "    train_transforms = transforms.Compose([transforms.RandomRotation(30),\n",
    "                                           # transforms.RandomHorizontalFlip(),\n",
    "                                           transforms.ToTensor(),\n",
    "                                           transforms.Normalize((0.5, 0.5, 0.5), (0.5, 0.5, 0.5))])\n",
    "\n",
    "    test_transforms = transforms.Compose([transforms.ToTensor(),\n",
    "                                          transforms.Normalize((0.5, 0.5, 0.5), (0.5, 0.5, 0.5))])\n",
    " # Create training set and define training dataloader\n",
    "## YOUR CODE HERE ##\n",
    "trainset = torchvision.datasets.CIFAR10(root='./data', train=True, download=True, transform=train_transforms)\n",
    "trainloader = torch.utils.data.DataLoader(trainset, batch_size=64, shuffle=True)\n",
    "\n",
    "# Create test set and define test dataloader\n",
    "## YOUR CODE HERE ##\n",
    "testset = torchvision.datasets.CIFAR10(root='./data', train=False, download=True, transform=test_transforms)\n",
    "testloader = torch.utils.data.DataLoader(testset, batch_size=64, shuffle=True)\n",
    "\n",
    "# The 10 classes in the dataset\n",
    "classes = ('plane', 'car', 'bird', 'cat', 'deer', 'dog', 'frog', 'horse', 'ship', 'truck')"
   ]
  },
  {
   "cell_type": "markdown",
   "metadata": {},
   "source": [
    "## Explore the Dataset\n",
    "Using matplotlib, numpy, and torch, explore the dimensions of your data.\n",
    "\n",
    "You can view images using the `show5` function defined below – it takes a data loader as an argument.\n",
    "Remember that normalized images will look really weird to you! You may want to try changing your transforms to view images.\n",
    "Typically using no transforms other than `toTensor()` works well for viewing – but not as well for training your network.\n",
    "If `show5` doesn't work, go back and check your code for creating your data loaders and your training/test sets."
   ]
  },
  {
   "cell_type": "code",
   "execution_count": 37,
   "metadata": {},
   "outputs": [],
   "source": [
    "def show5(img_loader):\n",
    "    dataiter = iter(img_loader)\n",
    "    \n",
    "    batch = next(dataiter)\n",
    "    labels = batch[1][0:5]\n",
    "    images = batch[0][0:5]\n",
    "    for i in range(5):\n",
    "        print(classes[labels[i]])  \n",
    "        image = images[i].numpy()\n",
    "        plt.figure(figsize=(1.5,1.5))  # make the view smaller\n",
    "        plt.imshow(image.T)\n",
    "        plt.show()"
   ]
  },
  {
   "cell_type": "code",
   "execution_count": 26,
   "metadata": {},
   "outputs": [
    {
     "name": "stderr",
     "output_type": "stream",
     "text": [
      "Clipping input data to the valid range for imshow with RGB data ([0..1] for floats or [0..255] for integers).\n"
     ]
    },
    {
     "name": "stdout",
     "output_type": "stream",
     "text": [
      "bird\n"
     ]
    },
    {
     "data": {
      "image/png": "[encoded data removed]",
      "text/plain": [
       "<Figure size 108x108 with 1 Axes>"
      ]
     },
     "metadata": {
      "needs_background": "light"
     },
     "output_type": "display_data"
    },
    {
     "name": "stderr",
     "output_type": "stream",
     "text": [
      "Clipping input data to the valid range for imshow with RGB data ([0..1] for floats or [0..255] for integers).\n"
     ]
    },
    {
     "name": "stdout",
     "output_type": "stream",
     "text": [
      "deer\n"
     ]
    },
    {
     "data": {
      "image/png": "[encoded data removed]",
      "text/plain": [
       "<Figure size 108x108 with 1 Axes>"
      ]
     },
     "metadata": {
      "needs_background": "light"
     },
     "output_type": "display_data"
    },
    {
     "name": "stdout",
     "output_type": "stream",
     "text": [
      "deer\n"
     ]
    },
    {
     "name": "stderr",
     "output_type": "stream",
     "text": [
      "Clipping input data to the valid range for imshow with RGB data ([0..1] for floats or [0..255] for integers).\n"
     ]
    },
    {
     "data": {
      "image/png": "[encoded data removed]",
      "text/plain": [
       "<Figure size 108x108 with 1 Axes>"
      ]
     },
     "metadata": {
      "needs_background": "light"
     },
     "output_type": "display_data"
    },
    {
     "name": "stderr",
     "output_type": "stream",
     "text": [
      "Clipping input data to the valid range for imshow with RGB data ([0..1] for floats or [0..255] for integers).\n"
     ]
    },
    {
     "name": "stdout",
     "output_type": "stream",
     "text": [
      "truck\n"
     ]
    },
    {
     "data": {
      "image/png": "[encoded data removed]",
      "text/plain": [
       "<Figure size 108x108 with 1 Axes>"
      ]
     },
     "metadata": {
      "needs_background": "light"
     },
     "output_type": "display_data"
    },
    {
     "name": "stderr",
     "output_type": "stream",
     "text": [
      "Clipping input data to the valid range for imshow with RGB data ([0..1] for floats or [0..255] for integers).\n"
     ]
    },
    {
     "name": "stdout",
     "output_type": "stream",
     "text": [
      "frog\n"
     ]
    },
    {
     "data": {
      "image/png": "[encoded data removed]",
      "text/plain": [
       "<Figure size 108x108 with 1 Axes>"
      ]
     },
     "metadata": {
      "needs_background": "light"
     },
     "output_type": "display_data"
    },
    {
     "name": "stdout",
     "output_type": "stream",
     "text": [
      "torch.Size([64, 3, 224, 224])\n",
      "torch.Size([64])\n"
     ]
    }
   ],
   "source": [
    "# Explore data\n",
    "## YOUR CODE HERE ##\n",
    "\n",
    "show5(trainloader)\n",
    "\n",
    "data_iter = iter(testloader)\n",
    "images, lables = next(data_iter)\n",
    "\n",
    "print(images.shape)\n",
    "print(lables.shape)\n"
   ]
  },
  {
   "cell_type": "markdown",
   "metadata": {},
   "source": [
    "Data Shape (one picture) 32x32 Pictures with RGB Color (3 channel)"
   ]
  },
  {
   "cell_type": "markdown",
   "metadata": {},
   "source": [
    "## Build your Neural Network\n",
    "Using the layers in `torch.nn` (which has been imported as `nn`) and the `torch.nn.functional` module (imported as `F`), construct a neural network based on the parameters of the dataset. \n",
    "Feel free to construct a model of any architecture – feedforward, convolutional, or even something more advanced!"
   ]
  },
  {
   "cell_type": "code",
   "execution_count": 38,
   "metadata": {},
   "outputs": [],
   "source": [
    "\n",
    "class Classifier(nn.Module):\n",
    "    def __init__(self):\n",
    "        super().__init__()\n",
    "        self.layer1 = nn.Linear(3072, 2048)\n",
    "        self.layer2 = nn.Linear(2048, 1024)\n",
    "        self.layer3 = nn.Linear(1024, 512)\n",
    "        self.layer4 = nn.Linear(512, 256)\n",
    "        self.layer5 = nn.Linear(256, 128)\n",
    "        self.layer6 = nn.Linear(128, 64)\n",
    "        self.layer7 = nn.Linear(64, 10)\n",
    "\n",
    "    def forward(self, x):\n",
    "        x = x.view(x.shape[0], -1)\n",
    "        x = F.relu(self.layer1(x))\n",
    "        x = F.relu(self.layer2(x))\n",
    "        x = F.relu(self.layer3(x))\n",
    "        x = F.relu(self.layer4(x))\n",
    "        x = F.relu(self.layer5(x))\n",
    "        x = F.relu(self.layer6(x))\n",
    "        x = F.log_softmax(self.layer7(x), dim=1)\n",
    "        return x\n"
   ]
  },
  {
   "cell_type": "code",
   "execution_count": 39,
   "metadata": {},
   "outputs": [],
   "source": [
    "from torchvision import models\n",
    "\n",
    "model_transfer = models.densenet121(pretrained=True)\n",
    "\n",
    "for param in model_transfer.parameters():\n",
    "    param.requires_grad = False\n",
    "\n",
    "classifier_transfer = nn.Sequential(nn.Linear(1024, 512),\n",
    "                                     nn.ReLU(),\n",
    "                                     nn.Dropout(0.2),\n",
    "                                     nn.Linear(512, 10),\n",
    "                                     nn.LogSoftmax(dim=1))\n",
    "\n",
    "model_transfer.classifier = classifier_transfer\n"
   ]
  },
  {
   "cell_type": "markdown",
   "metadata": {},
   "source": [
    "Specify a loss function and an optimizer, and instantiate the model.\n",
    "\n",
    "If you use a less common loss function, please note why you chose that loss function in a comment."
   ]
  },
  {
   "cell_type": "markdown",
   "metadata": {},
   "source": [
    "Loss function and optimizer for transfer-learning"
   ]
  },
  {
   "cell_type": "code",
   "execution_count": 40,
   "metadata": {},
   "outputs": [],
   "source": [
    "if transfer_learning:\n",
    "    model = model_transfer\n",
    "    criterion = nn.NLLLoss()\n",
    "    optimizer = optim.Adam(model.classifier.parameters(), lr=0.003)\n",
    "    epochs = 3\n",
    "else:\n",
    "    model = Classifier()\n",
    "    criterion = nn.NLLLoss()\n",
    "    optimizer = optim.Adam(model.parameters(), lr=0.003)\n",
    "    epochs = 25"
   ]
  },
  {
   "cell_type": "markdown",
   "metadata": {},
   "source": [
    "## Running your Neural Network\n",
    "Use whatever method you like to train your neural network, and ensure you record the average loss at each epoch. \n",
    "Don't forget to use `torch.device()` and the `.to()` method for both your model and your data if you are using GPU!\n",
    "\n",
    "If you want to print your loss during each epoch, you can use the `enumerate` function and print the loss after a set number of batches. 250 batches works well for most people!"
   ]
  },
  {
   "cell_type": "code",
   "execution_count": 43,
   "metadata": {},
   "outputs": [],
   "source": [
    "# Set Model (Transferlearning or complete own model)\n",
    "\n",
    "if transfer_learning:\n",
    "    model = model_transfer\n",
    "    criterion = nn.NLLLoss()\n",
    "    optimizer = optim.Adam(model.classifier.parameters(), lr=0.003)\n",
    "    epochs = 3\n",
    "else:\n",
    "    model = Classifier()\n",
    "    criterion = nn.NLLLoss()\n",
    "    optimizer = optim.Adam(model.parameters(), lr=0.003)\n",
    "    epochs = 25"
   ]
  },
  {
   "cell_type": "code",
   "execution_count": 52,
   "metadata": {},
   "outputs": [
    {
     "name": "stdout",
     "output_type": "stream",
     "text": [
      "cuda\n",
      "tensor(0.3779, device='cuda:0')\n",
      "tensor(0.5330, device='cuda:0')\n",
      "tensor(0.4602, device='cuda:0')\n",
      "tensor(0.4808, device='cuda:0')\n",
      "tensor(0.5077, device='cuda:0')\n",
      "tensor(0.5338, device='cuda:0')\n",
      "tensor(0.5508, device='cuda:0')\n",
      "tensor(0.6580, device='cuda:0')\n",
      "tensor(0.6290, device='cuda:0')\n",
      "tensor(0.6302, device='cuda:0')\n",
      "tensor(0.5211, device='cuda:0')\n",
      "tensor(0.5344, device='cuda:0')\n",
      "tensor(0.4475, device='cuda:0')\n",
      "tensor(0.6674, device='cuda:0')\n",
      "tensor(0.4965, device='cuda:0')\n",
      "tensor(0.5469, device='cuda:0')\n",
      "tensor(0.4136, device='cuda:0')\n",
      "tensor(0.8153, device='cuda:0')\n",
      "tensor(0.6264, device='cuda:0')\n",
      "tensor(0.7250, device='cuda:0')\n",
      "tensor(0.6887, device='cuda:0')\n",
      "tensor(0.4638, device='cuda:0')\n",
      "tensor(0.8043, device='cuda:0')\n",
      "tensor(0.6129, device='cuda:0')\n",
      "tensor(0.7057, device='cuda:0')\n",
      "tensor(0.4064, device='cuda:0')\n",
      "tensor(0.3502, device='cuda:0')\n",
      "tensor(0.5920, device='cuda:0')\n",
      "tensor(0.8788, device='cuda:0')\n",
      "tensor(0.3680, device='cuda:0')\n",
      "tensor(0.4175, device='cuda:0')\n",
      "tensor(0.3908, device='cuda:0')\n",
      "tensor(0.4146, device='cuda:0')\n",
      "tensor(0.3453, device='cuda:0')\n",
      "tensor(0.4873, device='cuda:0')\n",
      "tensor(0.8057, device='cuda:0')\n",
      "tensor(0.9499, device='cuda:0')\n",
      "tensor(0.5827, device='cuda:0')\n",
      "tensor(0.4715, device='cuda:0')\n",
      "tensor(0.4342, device='cuda:0')\n",
      "tensor(0.7996, device='cuda:0')\n",
      "tensor(0.4928, device='cuda:0')\n",
      "tensor(0.4977, device='cuda:0')\n",
      "tensor(0.5584, device='cuda:0')\n",
      "tensor(0.7311, device='cuda:0')\n",
      "tensor(0.5113, device='cuda:0')\n",
      "tensor(0.6457, device='cuda:0')\n",
      "tensor(0.4485, device='cuda:0')\n",
      "tensor(0.4618, device='cuda:0')\n",
      "tensor(0.4880, device='cuda:0')\n",
      "tensor(0.5201, device='cuda:0')\n",
      "tensor(0.4968, device='cuda:0')\n",
      "tensor(0.5909, device='cuda:0')\n",
      "tensor(0.5303, device='cuda:0')\n",
      "tensor(0.6596, device='cuda:0')\n",
      "tensor(0.2879, device='cuda:0')\n",
      "tensor(0.6816, device='cuda:0')\n",
      "tensor(0.3369, device='cuda:0')\n",
      "tensor(0.6214, device='cuda:0')\n",
      "tensor(0.4779, device='cuda:0')\n",
      "tensor(0.5986, device='cuda:0')\n",
      "tensor(0.6342, device='cuda:0')\n",
      "tensor(0.4573, device='cuda:0')\n",
      "tensor(0.5922, device='cuda:0')\n",
      "tensor(0.6380, device='cuda:0')\n",
      "tensor(0.5729, device='cuda:0')\n",
      "tensor(0.7338, device='cuda:0')\n",
      "tensor(0.6259, device='cuda:0')\n",
      "tensor(0.6001, device='cuda:0')\n",
      "tensor(0.6263, device='cuda:0')\n",
      "tensor(0.9175, device='cuda:0')\n",
      "tensor(0.3950, device='cuda:0')\n",
      "tensor(0.6062, device='cuda:0')\n",
      "tensor(0.4987, device='cuda:0')\n",
      "tensor(0.4088, device='cuda:0')\n",
      "tensor(0.6594, device='cuda:0')\n",
      "tensor(0.5738, device='cuda:0')\n",
      "tensor(0.3390, device='cuda:0')\n",
      "tensor(0.5723, device='cuda:0')\n",
      "tensor(0.5849, device='cuda:0')\n",
      "tensor(0.4690, device='cuda:0')\n",
      "tensor(0.8332, device='cuda:0')\n",
      "tensor(0.6614, device='cuda:0')\n",
      "tensor(0.7311, device='cuda:0')\n",
      "tensor(0.5557, device='cuda:0')\n",
      "tensor(0.6909, device='cuda:0')\n",
      "tensor(0.5760, device='cuda:0')\n",
      "tensor(0.5365, device='cuda:0')\n",
      "tensor(0.3645, device='cuda:0')\n",
      "tensor(0.5619, device='cuda:0')\n",
      "tensor(0.5106, device='cuda:0')\n",
      "tensor(0.3094, device='cuda:0')\n",
      "tensor(0.7560, device='cuda:0')\n",
      "tensor(0.5582, device='cuda:0')\n",
      "tensor(0.6320, device='cuda:0')\n",
      "tensor(0.7711, device='cuda:0')\n",
      "tensor(0.6502, device='cuda:0')\n",
      "tensor(0.3911, device='cuda:0')\n",
      "tensor(0.8076, device='cuda:0')\n",
      "tensor(0.7144, device='cuda:0')\n",
      "tensor(0.5354, device='cuda:0')\n",
      "tensor(0.7578, device='cuda:0')\n",
      "tensor(0.5004, device='cuda:0')\n",
      "tensor(0.7508, device='cuda:0')\n",
      "tensor(0.5185, device='cuda:0')\n",
      "tensor(0.5233, device='cuda:0')\n",
      "tensor(0.5360, device='cuda:0')\n",
      "tensor(0.6208, device='cuda:0')\n",
      "tensor(0.5090, device='cuda:0')\n",
      "tensor(0.4142, device='cuda:0')\n",
      "tensor(0.3850, device='cuda:0')\n",
      "tensor(0.4779, device='cuda:0')\n",
      "tensor(0.6403, device='cuda:0')\n",
      "tensor(0.6666, device='cuda:0')\n",
      "tensor(0.6642, device='cuda:0')\n",
      "tensor(0.6336, device='cuda:0')\n",
      "tensor(0.4019, device='cuda:0')\n",
      "tensor(0.3666, device='cuda:0')\n",
      "tensor(0.7497, device='cuda:0')\n",
      "tensor(1.1878, device='cuda:0')\n",
      "tensor(0.6853, device='cuda:0')\n",
      "tensor(0.6938, device='cuda:0')\n",
      "tensor(0.8119, device='cuda:0')\n",
      "tensor(0.6289, device='cuda:0')\n",
      "tensor(0.3318, device='cuda:0')\n",
      "tensor(0.5064, device='cuda:0')\n",
      "tensor(0.3941, device='cuda:0')\n",
      "tensor(0.6161, device='cuda:0')\n",
      "tensor(0.4670, device='cuda:0')\n",
      "tensor(0.4762, device='cuda:0')\n",
      "tensor(0.5117, device='cuda:0')\n",
      "tensor(0.6666, device='cuda:0')\n",
      "tensor(0.8553, device='cuda:0')\n",
      "tensor(0.4518, device='cuda:0')\n",
      "tensor(0.5260, device='cuda:0')\n",
      "tensor(0.7712, device='cuda:0')\n",
      "tensor(0.5049, device='cuda:0')\n",
      "tensor(0.4473, device='cuda:0')\n",
      "tensor(0.5739, device='cuda:0')\n",
      "tensor(0.4973, device='cuda:0')\n",
      "tensor(0.7975, device='cuda:0')\n",
      "tensor(0.5505, device='cuda:0')\n",
      "tensor(0.7192, device='cuda:0')\n",
      "tensor(0.6529, device='cuda:0')\n",
      "tensor(0.7742, device='cuda:0')\n",
      "tensor(0.5678, device='cuda:0')\n",
      "tensor(0.4572, device='cuda:0')\n",
      "tensor(0.4650, device='cuda:0')\n",
      "tensor(0.6861, device='cuda:0')\n",
      "tensor(0.6299, device='cuda:0')\n",
      "tensor(0.5130, device='cuda:0')\n",
      "tensor(0.7658, device='cuda:0')\n",
      "tensor(0.6579, device='cuda:0')\n",
      "tensor(0.8260, device='cuda:0')\n",
      "tensor(0.6413, device='cuda:0')\n",
      "tensor(0.5139, device='cuda:0')\n",
      "tensor(0.7787, device='cuda:0')\n",
      "Epoch 1/3.. Train loss: 0.640.. Test loss: 0.580.. Test accuracy: 0.808\n",
      "tensor(0.7847, device='cuda:0')\n",
      "tensor(0.6085, device='cuda:0')\n",
      "tensor(0.4266, device='cuda:0')\n",
      "tensor(0.5637, device='cuda:0')\n",
      "tensor(0.5427, device='cuda:0')\n",
      "tensor(0.5927, device='cuda:0')\n",
      "tensor(0.9902, device='cuda:0')\n",
      "tensor(0.4007, device='cuda:0')\n",
      "tensor(0.5017, device='cuda:0')\n",
      "tensor(0.4610, device='cuda:0')\n",
      "tensor(0.5302, device='cuda:0')\n",
      "tensor(0.4934, device='cuda:0')\n",
      "tensor(0.6791, device='cuda:0')\n",
      "tensor(0.5229, device='cuda:0')\n",
      "tensor(0.4502, device='cuda:0')\n",
      "tensor(0.4437, device='cuda:0')\n",
      "tensor(0.6486, device='cuda:0')\n",
      "tensor(0.8197, device='cuda:0')\n",
      "tensor(0.5647, device='cuda:0')\n",
      "tensor(0.4310, device='cuda:0')\n",
      "tensor(0.4611, device='cuda:0')\n",
      "tensor(0.7229, device='cuda:0')\n",
      "tensor(0.4040, device='cuda:0')\n",
      "tensor(0.5361, device='cuda:0')\n",
      "tensor(0.5938, device='cuda:0')\n",
      "tensor(0.6329, device='cuda:0')\n",
      "tensor(0.5429, device='cuda:0')\n",
      "tensor(0.7341, device='cuda:0')\n",
      "tensor(0.8548, device='cuda:0')\n",
      "tensor(0.5645, device='cuda:0')\n",
      "tensor(0.7215, device='cuda:0')\n",
      "tensor(0.7048, device='cuda:0')\n",
      "tensor(0.6794, device='cuda:0')\n",
      "tensor(0.4783, device='cuda:0')\n",
      "tensor(0.6071, device='cuda:0')\n",
      "tensor(0.6878, device='cuda:0')\n",
      "tensor(0.5920, device='cuda:0')\n",
      "tensor(0.9266, device='cuda:0')\n",
      "tensor(0.6564, device='cuda:0')\n",
      "tensor(0.4351, device='cuda:0')\n",
      "tensor(0.5275, device='cuda:0')\n",
      "tensor(0.6188, device='cuda:0')\n",
      "tensor(0.3851, device='cuda:0')\n",
      "tensor(0.6890, device='cuda:0')\n",
      "tensor(0.6436, device='cuda:0')\n",
      "tensor(0.8728, device='cuda:0')\n",
      "tensor(0.5741, device='cuda:0')\n",
      "tensor(0.5793, device='cuda:0')\n",
      "tensor(0.6542, device='cuda:0')\n",
      "tensor(0.3796, device='cuda:0')\n",
      "tensor(0.5251, device='cuda:0')\n",
      "tensor(0.6396, device='cuda:0')\n",
      "tensor(0.4402, device='cuda:0')\n",
      "tensor(0.6730, device='cuda:0')\n",
      "tensor(0.7760, device='cuda:0')\n",
      "tensor(0.8159, device='cuda:0')\n",
      "tensor(0.5183, device='cuda:0')\n",
      "tensor(0.7450, device='cuda:0')\n",
      "tensor(0.5843, device='cuda:0')\n",
      "tensor(0.5719, device='cuda:0')\n",
      "tensor(0.6966, device='cuda:0')\n",
      "tensor(0.6439, device='cuda:0')\n",
      "tensor(0.5861, device='cuda:0')\n",
      "tensor(0.3857, device='cuda:0')\n",
      "tensor(0.5460, device='cuda:0')\n",
      "tensor(0.7130, device='cuda:0')\n",
      "tensor(0.7136, device='cuda:0')\n",
      "tensor(0.6391, device='cuda:0')\n",
      "tensor(0.4386, device='cuda:0')\n",
      "tensor(0.4081, device='cuda:0')\n",
      "tensor(0.4985, device='cuda:0')\n",
      "tensor(0.3823, device='cuda:0')\n",
      "tensor(0.5921, device='cuda:0')\n",
      "tensor(0.5497, device='cuda:0')\n",
      "tensor(0.4889, device='cuda:0')\n",
      "tensor(0.5602, device='cuda:0')\n",
      "tensor(0.5440, device='cuda:0')\n",
      "tensor(0.4179, device='cuda:0')\n",
      "tensor(0.2700, device='cuda:0')\n",
      "tensor(0.5444, device='cuda:0')\n",
      "tensor(0.8318, device='cuda:0')\n",
      "tensor(0.5786, device='cuda:0')\n",
      "tensor(0.5647, device='cuda:0')\n",
      "tensor(0.5326, device='cuda:0')\n",
      "tensor(0.7840, device='cuda:0')\n",
      "tensor(0.4520, device='cuda:0')\n",
      "tensor(0.5469, device='cuda:0')\n",
      "tensor(0.5833, device='cuda:0')\n",
      "tensor(0.5494, device='cuda:0')\n",
      "tensor(0.4284, device='cuda:0')\n",
      "tensor(0.7454, device='cuda:0')\n",
      "tensor(0.5728, device='cuda:0')\n",
      "tensor(0.5685, device='cuda:0')\n",
      "tensor(0.6334, device='cuda:0')\n",
      "tensor(0.6252, device='cuda:0')\n",
      "tensor(0.8426, device='cuda:0')\n",
      "tensor(0.6408, device='cuda:0')\n"
     ]
    },
    {
     "name": "stdout",
     "output_type": "stream",
     "text": [
      "tensor(0.7210, device='cuda:0')\n",
      "tensor(0.4841, device='cuda:0')\n",
      "tensor(0.3542, device='cuda:0')\n",
      "tensor(0.5972, device='cuda:0')\n",
      "tensor(0.4416, device='cuda:0')\n",
      "tensor(0.5810, device='cuda:0')\n",
      "tensor(0.8048, device='cuda:0')\n",
      "tensor(0.4941, device='cuda:0')\n",
      "tensor(0.7433, device='cuda:0')\n",
      "tensor(0.5430, device='cuda:0')\n",
      "tensor(0.4154, device='cuda:0')\n",
      "tensor(0.4901, device='cuda:0')\n",
      "tensor(0.7322, device='cuda:0')\n",
      "tensor(0.7822, device='cuda:0')\n",
      "tensor(0.5162, device='cuda:0')\n",
      "tensor(0.6119, device='cuda:0')\n",
      "tensor(0.6504, device='cuda:0')\n",
      "tensor(0.6070, device='cuda:0')\n",
      "tensor(0.6470, device='cuda:0')\n",
      "tensor(0.4449, device='cuda:0')\n",
      "tensor(0.6510, device='cuda:0')\n",
      "tensor(0.6672, device='cuda:0')\n",
      "tensor(0.4894, device='cuda:0')\n",
      "tensor(0.5043, device='cuda:0')\n",
      "tensor(0.6704, device='cuda:0')\n",
      "tensor(0.5677, device='cuda:0')\n",
      "tensor(0.6370, device='cuda:0')\n",
      "tensor(0.7367, device='cuda:0')\n",
      "tensor(0.9758, device='cuda:0')\n",
      "tensor(0.5192, device='cuda:0')\n",
      "tensor(0.5956, device='cuda:0')\n",
      "tensor(0.6384, device='cuda:0')\n",
      "tensor(0.4990, device='cuda:0')\n",
      "tensor(0.6682, device='cuda:0')\n",
      "tensor(0.7062, device='cuda:0')\n",
      "tensor(0.7165, device='cuda:0')\n",
      "tensor(0.3707, device='cuda:0')\n",
      "tensor(0.7605, device='cuda:0')\n",
      "tensor(0.3810, device='cuda:0')\n",
      "tensor(0.5097, device='cuda:0')\n",
      "tensor(0.5972, device='cuda:0')\n",
      "tensor(0.7184, device='cuda:0')\n",
      "tensor(0.7183, device='cuda:0')\n",
      "tensor(0.6884, device='cuda:0')\n",
      "tensor(0.4447, device='cuda:0')\n",
      "tensor(0.6179, device='cuda:0')\n",
      "tensor(0.6192, device='cuda:0')\n",
      "tensor(0.6793, device='cuda:0')\n",
      "tensor(0.6522, device='cuda:0')\n",
      "tensor(0.5408, device='cuda:0')\n",
      "tensor(0.8963, device='cuda:0')\n",
      "tensor(0.7544, device='cuda:0')\n",
      "tensor(0.4152, device='cuda:0')\n",
      "tensor(0.8014, device='cuda:0')\n",
      "tensor(0.6015, device='cuda:0')\n",
      "tensor(0.4279, device='cuda:0')\n",
      "tensor(0.7364, device='cuda:0')\n",
      "tensor(0.6246, device='cuda:0')\n",
      "tensor(0.6881, device='cuda:0')\n",
      "tensor(0.4499, device='cuda:0')\n",
      "Epoch 2/3.. Train loss: 0.639.. Test loss: 0.598.. Test accuracy: 0.801\n",
      "tensor(0.7405, device='cuda:0')\n",
      "tensor(0.4640, device='cuda:0')\n",
      "tensor(0.5416, device='cuda:0')\n",
      "tensor(0.6164, device='cuda:0')\n",
      "tensor(0.6672, device='cuda:0')\n",
      "tensor(0.8465, device='cuda:0')\n",
      "tensor(0.7157, device='cuda:0')\n",
      "tensor(0.6283, device='cuda:0')\n",
      "tensor(0.6022, device='cuda:0')\n",
      "tensor(0.7897, device='cuda:0')\n",
      "tensor(0.7674, device='cuda:0')\n",
      "tensor(0.4519, device='cuda:0')\n",
      "tensor(0.6690, device='cuda:0')\n",
      "tensor(0.8519, device='cuda:0')\n",
      "tensor(0.3891, device='cuda:0')\n",
      "tensor(0.4686, device='cuda:0')\n",
      "tensor(0.8122, device='cuda:0')\n",
      "tensor(0.6146, device='cuda:0')\n",
      "tensor(0.5776, device='cuda:0')\n",
      "tensor(0.8858, device='cuda:0')\n",
      "tensor(0.5635, device='cuda:0')\n",
      "tensor(0.6432, device='cuda:0')\n",
      "tensor(0.6410, device='cuda:0')\n",
      "tensor(0.5591, device='cuda:0')\n",
      "tensor(0.4523, device='cuda:0')\n",
      "tensor(0.4339, device='cuda:0')\n",
      "tensor(0.7101, device='cuda:0')\n",
      "tensor(0.5840, device='cuda:0')\n",
      "tensor(0.5305, device='cuda:0')\n",
      "tensor(0.5917, device='cuda:0')\n",
      "tensor(0.5074, device='cuda:0')\n",
      "tensor(0.7403, device='cuda:0')\n",
      "tensor(0.9828, device='cuda:0')\n",
      "tensor(0.5795, device='cuda:0')\n",
      "tensor(0.3068, device='cuda:0')\n",
      "tensor(0.5661, device='cuda:0')\n",
      "tensor(0.5178, device='cuda:0')\n",
      "tensor(0.8378, device='cuda:0')\n",
      "tensor(0.6727, device='cuda:0')\n",
      "tensor(0.7895, device='cuda:0')\n",
      "tensor(0.5332, device='cuda:0')\n",
      "tensor(0.4607, device='cuda:0')\n",
      "tensor(0.5376, device='cuda:0')\n",
      "tensor(0.3785, device='cuda:0')\n",
      "tensor(0.3734, device='cuda:0')\n",
      "tensor(0.7249, device='cuda:0')\n",
      "tensor(0.7817, device='cuda:0')\n",
      "tensor(0.7419, device='cuda:0')\n",
      "tensor(0.5447, device='cuda:0')\n",
      "tensor(0.4737, device='cuda:0')\n",
      "tensor(0.7665, device='cuda:0')\n",
      "tensor(0.4034, device='cuda:0')\n",
      "tensor(0.6340, device='cuda:0')\n",
      "tensor(0.7010, device='cuda:0')\n",
      "tensor(0.6053, device='cuda:0')\n",
      "tensor(0.3379, device='cuda:0')\n",
      "tensor(0.5294, device='cuda:0')\n",
      "tensor(0.5927, device='cuda:0')\n",
      "tensor(0.5580, device='cuda:0')\n",
      "tensor(0.6583, device='cuda:0')\n",
      "tensor(0.5988, device='cuda:0')\n",
      "tensor(0.5311, device='cuda:0')\n",
      "tensor(0.5370, device='cuda:0')\n",
      "tensor(0.8118, device='cuda:0')\n",
      "tensor(0.7545, device='cuda:0')\n",
      "tensor(0.9194, device='cuda:0')\n",
      "tensor(0.6139, device='cuda:0')\n",
      "tensor(0.6567, device='cuda:0')\n",
      "tensor(0.5245, device='cuda:0')\n",
      "tensor(0.6589, device='cuda:0')\n",
      "tensor(0.4515, device='cuda:0')\n",
      "tensor(0.7348, device='cuda:0')\n",
      "tensor(0.6222, device='cuda:0')\n",
      "tensor(0.8270, device='cuda:0')\n",
      "tensor(0.4370, device='cuda:0')\n",
      "tensor(0.7827, device='cuda:0')\n",
      "tensor(0.5759, device='cuda:0')\n",
      "tensor(0.5866, device='cuda:0')\n",
      "tensor(0.6724, device='cuda:0')\n",
      "tensor(0.7544, device='cuda:0')\n",
      "tensor(0.6207, device='cuda:0')\n",
      "tensor(0.4089, device='cuda:0')\n",
      "tensor(0.5107, device='cuda:0')\n",
      "tensor(0.7257, device='cuda:0')\n",
      "tensor(0.9782, device='cuda:0')\n",
      "tensor(0.5036, device='cuda:0')\n",
      "tensor(0.4612, device='cuda:0')\n",
      "tensor(0.6564, device='cuda:0')\n",
      "tensor(0.5218, device='cuda:0')\n",
      "tensor(0.8273, device='cuda:0')\n",
      "tensor(0.5154, device='cuda:0')\n",
      "tensor(0.6734, device='cuda:0')\n",
      "tensor(0.4729, device='cuda:0')\n",
      "tensor(0.7993, device='cuda:0')\n",
      "tensor(0.5087, device='cuda:0')\n",
      "tensor(0.5469, device='cuda:0')\n",
      "tensor(0.7004, device='cuda:0')\n",
      "tensor(0.4176, device='cuda:0')\n",
      "tensor(0.7049, device='cuda:0')\n",
      "tensor(0.5268, device='cuda:0')\n",
      "tensor(0.3366, device='cuda:0')\n",
      "tensor(0.6063, device='cuda:0')\n",
      "tensor(0.8542, device='cuda:0')\n",
      "tensor(0.5737, device='cuda:0')\n",
      "tensor(0.6151, device='cuda:0')\n",
      "tensor(0.4287, device='cuda:0')\n",
      "tensor(0.4899, device='cuda:0')\n",
      "tensor(0.3958, device='cuda:0')\n",
      "tensor(0.7175, device='cuda:0')\n",
      "tensor(0.6539, device='cuda:0')\n",
      "tensor(0.4348, device='cuda:0')\n",
      "tensor(0.4548, device='cuda:0')\n",
      "tensor(0.4261, device='cuda:0')\n",
      "tensor(0.5226, device='cuda:0')\n",
      "tensor(0.6168, device='cuda:0')\n",
      "tensor(0.8292, device='cuda:0')\n",
      "tensor(0.5636, device='cuda:0')\n",
      "tensor(0.4310, device='cuda:0')\n",
      "tensor(0.5760, device='cuda:0')\n",
      "tensor(0.5380, device='cuda:0')\n",
      "tensor(0.5812, device='cuda:0')\n",
      "tensor(0.4340, device='cuda:0')\n",
      "tensor(0.5091, device='cuda:0')\n",
      "tensor(0.6598, device='cuda:0')\n",
      "tensor(0.4210, device='cuda:0')\n",
      "tensor(0.4966, device='cuda:0')\n",
      "tensor(0.7589, device='cuda:0')\n",
      "tensor(0.7650, device='cuda:0')\n",
      "tensor(0.5588, device='cuda:0')\n",
      "tensor(0.5043, device='cuda:0')\n",
      "tensor(0.6483, device='cuda:0')\n",
      "tensor(0.7207, device='cuda:0')\n",
      "tensor(0.5879, device='cuda:0')\n",
      "tensor(0.6000, device='cuda:0')\n",
      "tensor(0.7725, device='cuda:0')\n",
      "tensor(0.9095, device='cuda:0')\n",
      "tensor(0.6988, device='cuda:0')\n",
      "tensor(0.4968, device='cuda:0')\n",
      "tensor(0.6213, device='cuda:0')\n",
      "tensor(0.5711, device='cuda:0')\n",
      "tensor(0.6346, device='cuda:0')\n",
      "tensor(0.5919, device='cuda:0')\n",
      "tensor(0.6216, device='cuda:0')\n",
      "tensor(0.4213, device='cuda:0')\n",
      "tensor(0.6545, device='cuda:0')\n",
      "tensor(0.5202, device='cuda:0')\n",
      "tensor(0.5018, device='cuda:0')\n",
      "tensor(0.9092, device='cuda:0')\n",
      "tensor(0.5559, device='cuda:0')\n",
      "tensor(0.5329, device='cuda:0')\n",
      "tensor(0.5480, device='cuda:0')\n",
      "tensor(0.3860, device='cuda:0')\n",
      "tensor(0.5740, device='cuda:0')\n",
      "tensor(0.7831, device='cuda:0')\n",
      "tensor(0.5334, device='cuda:0')\n",
      "tensor(0.7580, device='cuda:0')\n",
      "tensor(0.7728, device='cuda:0')\n",
      "Epoch 3/3.. Train loss: 0.635.. Test loss: 0.608.. Test accuracy: 0.798\n"
     ]
    }
   ],
   "source": [
    "## YOUR CODE HERE ##\n",
    "\n",
    "device = torch.device(\"cuda\" if torch.cuda.is_available() else \"cpu\")\n",
    "# device = 'cpu'\n",
    "print(device)\n",
    "#print (model)\n",
    "\n",
    "model.to(device)\n",
    "\n",
    "train_loss_list, test_loss_list  = [], []  \n",
    "\n",
    "for epoch in range(epochs):\n",
    "    train_loss=0\n",
    "    for images, labels in trainloader:\n",
    "        images, labels = images.to(device), labels.to(device)\n",
    "        optimizer.zero_grad()\n",
    "        logps = model.forward(images)\n",
    "        loss = criterion(logps, labels)\n",
    "        \n",
    "        loss.backward()\n",
    "        optimizer.step()\n",
    "\n",
    "        train_loss += loss.item()\n",
    "    \n",
    "    train_loss_list.append(train_loss/len(trainloader))\n",
    "    test_loss = 0\n",
    "    accuracy = 0\n",
    "    with torch.no_grad():\n",
    "        for images, labels in testloader:\n",
    "            images, labels = images.to(device), labels.to(device)\n",
    "            logps = model.forward(images)\n",
    "            loss = criterion(logps, labels)\n",
    "            test_loss += loss.item()\n",
    "            ps = torch.exp(logps)\n",
    "            top_p, top_class = ps.topk(1, dim=1)\n",
    "            equals = top_class == labels.view(*top_class.shape)\n",
    "            accuracy += torch.mean(equals.type(torch.FloatTensor))\n",
    "        \n",
    "    test_loss_list.append(test_loss/len(testloader))\n",
    "    print(f\"Epoch {epoch+1}/{epochs}.. \"\n",
    "          f\"Train loss: {train_loss/len(trainloader):.3f}.. \"\n",
    "          f\"Test loss: {test_loss/len(testloader):.3f}.. \"\n",
    "          f\"Test accuracy: {accuracy/len(testloader):.3f}\")"
   ]
  },
  {
   "cell_type": "markdown",
   "metadata": {},
   "source": [
    "Plot the training loss (and validation loss/accuracy, if recorded)."
   ]
  },
  {
   "cell_type": "code",
   "execution_count": 50,
   "metadata": {},
   "outputs": [
    {
     "data": {
      "text/plain": [
       "<matplotlib.legend.Legend at 0x1e3b4f8a760>"
      ]
     },
     "execution_count": 50,
     "metadata": {},
     "output_type": "execute_result"
    },
    {
     "data": {
      "image/png": "[encoded data removed]",
      "text/plain": [
       "<Figure size 432x288 with 1 Axes>"
      ]
     },
     "metadata": {
      "image/png": {
       "height": 248,
       "width": 384
      },
      "needs_background": "light"
     },
     "output_type": "display_data"
    }
   ],
   "source": [
    "## YOUR CODE HERE ##\n",
    "import matplotlib.pyplot as plt\n",
    "\n",
    "%matplotlib inline\n",
    "%config InlineBackend.figure_format = 'retina'\n",
    "\n",
    "plt.plot(train_loss_list, label='Training loss')\n",
    "plt.plot(test_loss_list, label='Validation loss')\n",
    "plt.legend(frameon=False)"
   ]
  },
  {
   "cell_type": "markdown",
   "metadata": {},
   "source": [
    "## Testing your model\n",
    "Using the previously created `DataLoader` for the test set, compute the percentage of correct predictions using the highest probability prediction. \n",
    "\n",
    "If your accuracy is over 70%, great work! \n",
    "This is a hard task to exceed 70% on.\n",
    "\n",
    "If your accuracy is under 45%, you'll need to make improvements.\n",
    "Go back and check your model architecture, loss function, and optimizer to make sure they're appropriate for an image classification task."
   ]
  },
  {
   "cell_type": "code",
   "execution_count": 18,
   "metadata": {},
   "outputs": [
    {
     "name": "stdout",
     "output_type": "stream",
     "text": [
      "Test loss: 1.612\n",
      "Test accuracy: 45.54%\n"
     ]
    }
   ],
   "source": [
    "## YOUR CODE HERE ##\n",
    "test_loss = 0\n",
    "accuracy = 0\n",
    "model.eval()\n",
    "with torch.no_grad():\n",
    "    for images, labels in testloader:\n",
    "        images, labels = images.to(device), labels.to(device)\n",
    "        logps = model.forward(images)\n",
    "        loss = criterion(logps, labels)\n",
    "        test_loss += loss.item()\n",
    "        ps = torch.exp(logps)\n",
    "        top_p, top_class = ps.topk(1, dim=1)\n",
    "        equals = top_class == labels.view(*top_class.shape)\n",
    "        accuracy += torch.mean(equals.type(torch.FloatTensor)).item()\n",
    "    \n",
    "    print(f\"Test loss: {test_loss/len(testloader):.3f}\")\n",
    "    print(f\"Test accuracy: {accuracy/len(testloader)*100:.2f}%\")"
   ]
  },
  {
   "cell_type": "markdown",
   "metadata": {},
   "source": [
    "## Saving your model\n",
    "Using `torch.save`, save your model for future loading."
   ]
  },
  {
   "cell_type": "code",
   "execution_count": 43,
   "metadata": {},
   "outputs": [],
   "source": [
    "## YOUR CODE HERE ##\n",
    "file_name ='checkpoint_transfer_2'\n",
    "torch.save(model.state_dict(), file_name + 'pth')"
   ]
  },
  {
   "cell_type": "markdown",
   "metadata": {},
   "source": [
    "## Make a Recommendation\n",
    "\n",
    "Based on your evaluation, what is your recommendation on whether to build or buy? Explain your reasoning below."
   ]
  },
  {
   "cell_type": "markdown",
   "metadata": {},
   "source": [
    "\n",
    "\n",
    "**Double click this cell to modify it**\n",
    "\n"
   ]
  }
 ],
 "metadata": {
  "kernelspec": {
   "display_name": "Python [conda env:.conda-rtvc]",
   "language": "python",
   "name": "conda-env-.conda-rtvc-py"
  },
  "language_info": {
   "codemirror_mode": {
    "name": "ipython",
    "version": 3
   },
   "file_extension": ".py",
   "mimetype": "text/x-python",
   "name": "python",
   "nbconvert_exporter": "python",
   "pygments_lexer": "ipython3",
   "version": "3.8.10"
  }
 },
 "nbformat": 4,
 "nbformat_minor": 4
}
